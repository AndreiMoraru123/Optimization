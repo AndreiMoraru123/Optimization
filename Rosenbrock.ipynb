{
  "nbformat": 4,
  "nbformat_minor": 0,
  "metadata": {
    "colab": {
      "name": "Rosenbrock.ipynb",
      "provenance": [],
      "collapsed_sections": [],
      "authorship_tag": "ABX9TyPWWfcixCIu8RO+caEh7q0Y",
      "include_colab_link": true
    },
    "kernelspec": {
      "name": "python3",
      "display_name": "Python 3"
    },
    "language_info": {
      "name": "python"
    }
  },
  "cells": [
    {
      "cell_type": "markdown",
      "metadata": {
        "id": "view-in-github",
        "colab_type": "text"
      },
      "source": [
        "<a href=\"https://colab.research.google.com/github/AndreiMoraru123/Optimization/blob/main/Rosenbrock.ipynb\" target=\"_parent\"><img src=\"https://colab.research.google.com/assets/colab-badge.svg\" alt=\"Open In Colab\"/></a>"
      ]
    },
    {
      "cell_type": "markdown",
      "source": [
        "Let us now take a look into another state of the art minimization algorithm:\n",
        "\n",
        "Enter the **Rosenbrock** method:"
      ],
      "metadata": {
        "id": "hkTQg9eXxh26"
      }
    },
    {
      "cell_type": "code",
      "source": [
        "import numpy as np\n",
        "import random\n",
        "from matplotlib import pyplot as plt\n",
        "from IPython.display import display, Math"
      ],
      "metadata": {
        "id": "kP46sMoTxvhE"
      },
      "execution_count": 1,
      "outputs": []
    },
    {
      "cell_type": "markdown",
      "source": [
        "Let's define the 2D function we will be working with and plot its level curves"
      ],
      "metadata": {
        "id": "hMHloyMSx52p"
      }
    },
    {
      "cell_type": "code",
      "source": [
        "def f(x):\n",
        "    return x[0]**6 + 3*x[0]*x[1] + x[1]**2\n",
        "\n",
        "def plot_contour(f):\n",
        "    x = np.arange(-30,30,0.05)\n",
        "    y = np.arange(-30,30,0.05)\n",
        "    X, Y = np.meshgrid(x,y)\n",
        "    Z = f([X,Y])\n",
        "    fig, ax = plt.subplots(figsize = (10,5))\n",
        "    CS = ax.contour(X,Y,Z)\n",
        "    return \n",
        "\n",
        "display(Math(f' f(x1,x2) = x1^6 + 3x2x2 +x2^2'))\n",
        "\n",
        "plot_contour(f)"
      ],
      "metadata": {
        "colab": {
          "base_uri": "https://localhost:8080/",
          "height": 342
        },
        "id": "cH-_pE2dx1Lh",
        "outputId": "dfebc635-4ba9-477a-f387-aed777b3d001"
      },
      "execution_count": 2,
      "outputs": [
        {
          "output_type": "display_data",
          "data": {
            "text/plain": [
              "<IPython.core.display.Math object>"
            ],
            "text/latex": "$$ f(x1,x2) = x1^6 + 3x2x2 +x2^2$$"
          },
          "metadata": {}
        },
        {
          "output_type": "display_data",
          "data": {
            "text/plain": [
              "<Figure size 720x360 with 1 Axes>"
            ],
            "image/png": "[encoded data removed]"
          },
          "metadata": {
            "needs_background": "light"
          }
        }
      ]
    },
    {
      "cell_type": "markdown",
      "source": [
        "Nice. Now let's run the algorithm from a random starting point"
      ],
      "metadata": {
        "id": "Eg6x0gPzye21"
      }
    },
    {
      "cell_type": "code",
      "source": [
        "d1 = [1,0]\n",
        "d2 = [0,1]\n",
        "\n",
        "d = np.array((d1,d2))\n",
        "s = [1,.5]\n",
        "\n",
        "alpha = 3;\n",
        "beta = -0.8\n",
        "n = 2\n",
        "\n",
        "current = []\n",
        "for i in range(n):\n",
        "    rndel = random.random() * 30\n",
        "    current.append(rndel)\n",
        "\n",
        "start = current.copy()\n",
        "\n",
        "plot_contour(f)\n",
        "trajectory = np.zeros((200, 2))\n",
        "k = 0\n",
        "\n",
        "record = np.zeros((2, 1))\n",
        "\n",
        "for i in range(100):\n",
        "\n",
        "    c = [0, 0]\n",
        "    success = [0, 0]\n",
        "    fail = [0, 0]\n",
        "    oscillation = False\n",
        "\n",
        "    while oscillation is False and k < 20:\n",
        "\n",
        "        for j in range(2):\n",
        "\n",
        "            newpoint = current + s[j] * d[j, :]\n",
        "\n",
        "            if (f(newpoint)) < (f(current)):\n",
        "\n",
        "                current = newpoint\n",
        "\n",
        "                success[j] = 1\n",
        "                c[j] = c[j] + s[j]\n",
        "                s[j] = s[j] * alpha\n",
        "                k += 1\n",
        "                trajectory[k, :] = current\n",
        "                plt.plot([trajectory[k-1, 0], current[0]], [trajectory[k-1, 1], current[1]], 'r')\n",
        "\n",
        "            else:\n",
        "                fail[j] = 1\n",
        "                s[j] = s[j] * beta\n",
        "\n",
        "        if all(success) and all(fail):\n",
        "            oscillation = True\n",
        "\n",
        "    a1 = c[0] * d[0, :] + c[1] * d[1, :]\n",
        "    a2 = c[1] * d[1, :]\n",
        "\n",
        "    b1 = a1\n",
        "    d1 = b1 / np.linalg.norm(b1, 2)\n",
        "\n",
        "    b2 = a2 - np.divide((a2 @ b1.T), np.linalg.norm(b1, 2) ** 2) * b1\n",
        "    d2 = b2 / np.linalg.norm(b2, 1)\n",
        "\n",
        "    d = np.array((d1, d2))\n",
        "\n",
        "plt.plot(current[0], current[1], 'ro')\n",
        "plt.plot(start[0], start[1], 'bs')"
      ],
      "metadata": {
        "colab": {
          "base_uri": "https://localhost:8080/",
          "height": 372
        },
        "id": "fyGCD9N8ym_j",
        "outputId": "6af7f14e-6323-4051-9c73-7edb08f0299f"
      },
      "execution_count": 3,
      "outputs": [
        {
          "output_type": "stream",
          "name": "stderr",
          "text": [
            "/usr/local/lib/python3.7/dist-packages/ipykernel_launcher.py:59: RuntimeWarning: invalid value encountered in true_divide\n",
            "/usr/local/lib/python3.7/dist-packages/ipykernel_launcher.py:61: RuntimeWarning: invalid value encountered in true_divide\n"
          ]
        },
        {
          "output_type": "execute_result",
          "data": {
            "text/plain": [
              "[<matplotlib.lines.Line2D at 0x7f52f4b51250>]"
            ]
          },
          "metadata": {},
          "execution_count": 3
        },
        {
          "output_type": "display_data",
          "data": {
            "text/plain": [
              "<Figure size 720x360 with 1 Axes>"
            ],
            "image/png": "[encoded data removed]"
          },
          "metadata": {
            "needs_background": "light"
          }
        }
      ]
    },
    {
      "cell_type": "markdown",
      "source": [
        "As you can see, it found the one of the two minima using orthogonal directions rather quick and even better than the Nelder Mead method"
      ],
      "metadata": {
        "id": "-QdQUOsNy6nP"
      }
    }
  ]
}